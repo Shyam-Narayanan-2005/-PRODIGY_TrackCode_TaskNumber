{
  "nbformat": 4,
  "nbformat_minor": 0,
  "metadata": {
    "colab": {
      "provenance": []
    },
    "kernelspec": {
      "name": "python3",
      "display_name": "Python 3"
    },
    "language_info": {
      "name": "python"
    }
  },
  "cells": [
    {
      "cell_type": "code",
      "execution_count": 1,
      "metadata": {
        "colab": {
          "base_uri": "https://localhost:8080/"
        },
        "id": "t1ugc-2rSfRh",
        "outputId": "67896a51-ac67-4c3b-a9df-9152bfc74c13"
      },
      "outputs": [
        {
          "output_type": "stream",
          "name": "stdout",
          "text": [
            "This is a simple example text. This example demonstrates a simple example text. This example demonstrates a simple Markov model.\n"
          ]
        }
      ],
      "source": [
        "import random\n",
        "from collections import defaultdict\n",
        "\n",
        "def build_markov_model(text, order=2):\n",
        "    \"\"\"Builds a Markov model of the given order from the input text.\"\"\"\n",
        "    model = defaultdict(list)\n",
        "    words = text.split()\n",
        "\n",
        "    for i in range(len(words) - order):\n",
        "        prefix = tuple(words[i:i+order])\n",
        "        next_word = words[i+order]\n",
        "        model[prefix].append(next_word)\n",
        "\n",
        "    return model\n",
        "\n",
        "def generate_text(model, start_words, length=50):\n",
        "    \"\"\"Generates text using the Markov model.\"\"\"\n",
        "    if not start_words in model:\n",
        "        start_words = random.choice(list(model.keys()))\n",
        "\n",
        "    result = list(start_words)\n",
        "\n",
        "    for _ in range(length - len(start_words)):\n",
        "        prefix = tuple(result[-len(start_words):])\n",
        "        if prefix in model:\n",
        "            next_word = random.choice(model[prefix])\n",
        "            result.append(next_word)\n",
        "        else:\n",
        "            break\n",
        "\n",
        "    return ' '.join(result)\n",
        "\n",
        "# Example usage\n",
        "if __name__ == \"__main__\":\n",
        "    sample_text = \"This is a simple example text. This example demonstrates a simple Markov model.\"\n",
        "    order = 2\n",
        "    markov_model = build_markov_model(sample_text, order)\n",
        "    start_words = (\"This\", \"is\")\n",
        "    generated_text = generate_text(markov_model, start_words, length=20)\n",
        "    print(generated_text)\n"
      ]
    }
  ]
}